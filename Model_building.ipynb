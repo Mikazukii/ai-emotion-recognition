{
 "cells": [
  {
   "cell_type": "markdown",
   "metadata": {},
   "source": [
    "# Importation of libraries"
   ]
  },
  {
   "cell_type": "code",
   "execution_count": 2,
   "metadata": {
    "colab": {
     "base_uri": "https://localhost:8080/"
    },
    "id": "p1iRIg2LFbrA",
    "outputId": "fb3d3208-ced3-4834-826b-2094106dcea9"
   },
   "outputs": [],
   "source": [
    "import pandas as pd\n",
    "import numpy as np\n",
    "import matplotlib.pyplot as plt\n",
    "from keras.utils import to_categorical\n",
    "from keras.models import Sequential, load_model\n",
    "from keras.layers import Dense, Conv2D, MaxPooling2D, Flatten\n",
    "from sklearn.metrics import classification_report,confusion_matrix\n",
    "from tensorflow.keras.preprocessing.image import ImageDataGenerator"
   ]
  },
  {
   "cell_type": "markdown",
   "metadata": {},
   "source": [
    "# Data preprocessing"
   ]
  },
  {
   "cell_type": "markdown",
   "metadata": {},
   "source": [
    "Data import"
   ]
  },
  {
   "cell_type": "code",
   "execution_count": 3,
   "metadata": {
    "id": "rACXy3o1JmeA"
   },
   "outputs": [
    {
     "data": {
      "text/html": [
       "<div>\n",
       "<style scoped>\n",
       "    .dataframe tbody tr th:only-of-type {\n",
       "        vertical-align: middle;\n",
       "    }\n",
       "\n",
       "    .dataframe tbody tr th {\n",
       "        vertical-align: top;\n",
       "    }\n",
       "\n",
       "    .dataframe thead th {\n",
       "        text-align: right;\n",
       "    }\n",
       "</style>\n",
       "<table border=\"1\" class=\"dataframe\">\n",
       "  <thead>\n",
       "    <tr style=\"text-align: right;\">\n",
       "      <th></th>\n",
       "      <th>emotion</th>\n",
       "      <th>pixels</th>\n",
       "      <th>Usage</th>\n",
       "    </tr>\n",
       "  </thead>\n",
       "  <tbody>\n",
       "    <tr>\n",
       "      <th>0</th>\n",
       "      <td>0</td>\n",
       "      <td>70 80 82 72 58 58 60 63 54 58 60 48 89 115 121...</td>\n",
       "      <td>Training</td>\n",
       "    </tr>\n",
       "    <tr>\n",
       "      <th>1</th>\n",
       "      <td>0</td>\n",
       "      <td>151 150 147 155 148 133 111 140 170 174 182 15...</td>\n",
       "      <td>Training</td>\n",
       "    </tr>\n",
       "    <tr>\n",
       "      <th>2</th>\n",
       "      <td>2</td>\n",
       "      <td>231 212 156 164 174 138 161 173 182 200 106 38...</td>\n",
       "      <td>Training</td>\n",
       "    </tr>\n",
       "    <tr>\n",
       "      <th>3</th>\n",
       "      <td>4</td>\n",
       "      <td>24 32 36 30 32 23 19 20 30 41 21 22 32 34 21 1...</td>\n",
       "      <td>Training</td>\n",
       "    </tr>\n",
       "    <tr>\n",
       "      <th>4</th>\n",
       "      <td>6</td>\n",
       "      <td>4 0 0 0 0 0 0 0 0 0 0 0 3 15 23 28 48 50 58 84...</td>\n",
       "      <td>Training</td>\n",
       "    </tr>\n",
       "    <tr>\n",
       "      <th>5</th>\n",
       "      <td>2</td>\n",
       "      <td>55 55 55 55 55 54 60 68 54 85 151 163 170 179 ...</td>\n",
       "      <td>Training</td>\n",
       "    </tr>\n",
       "    <tr>\n",
       "      <th>6</th>\n",
       "      <td>4</td>\n",
       "      <td>20 17 19 21 25 38 42 42 46 54 56 62 63 66 82 1...</td>\n",
       "      <td>Training</td>\n",
       "    </tr>\n",
       "    <tr>\n",
       "      <th>7</th>\n",
       "      <td>3</td>\n",
       "      <td>77 78 79 79 78 75 60 55 47 48 58 73 77 79 57 5...</td>\n",
       "      <td>Training</td>\n",
       "    </tr>\n",
       "    <tr>\n",
       "      <th>8</th>\n",
       "      <td>3</td>\n",
       "      <td>85 84 90 121 101 102 133 153 153 169 177 189 1...</td>\n",
       "      <td>Training</td>\n",
       "    </tr>\n",
       "    <tr>\n",
       "      <th>9</th>\n",
       "      <td>2</td>\n",
       "      <td>255 254 255 254 254 179 122 107 95 124 149 150...</td>\n",
       "      <td>Training</td>\n",
       "    </tr>\n",
       "  </tbody>\n",
       "</table>\n",
       "</div>"
      ],
      "text/plain": [
       "   emotion                                             pixels     Usage\n",
       "0        0  70 80 82 72 58 58 60 63 54 58 60 48 89 115 121...  Training\n",
       "1        0  151 150 147 155 148 133 111 140 170 174 182 15...  Training\n",
       "2        2  231 212 156 164 174 138 161 173 182 200 106 38...  Training\n",
       "3        4  24 32 36 30 32 23 19 20 30 41 21 22 32 34 21 1...  Training\n",
       "4        6  4 0 0 0 0 0 0 0 0 0 0 0 3 15 23 28 48 50 58 84...  Training\n",
       "5        2  55 55 55 55 55 54 60 68 54 85 151 163 170 179 ...  Training\n",
       "6        4  20 17 19 21 25 38 42 42 46 54 56 62 63 66 82 1...  Training\n",
       "7        3  77 78 79 79 78 75 60 55 47 48 58 73 77 79 57 5...  Training\n",
       "8        3  85 84 90 121 101 102 133 153 153 169 177 189 1...  Training\n",
       "9        2  255 254 255 254 254 179 122 107 95 124 149 150...  Training"
      ]
     },
     "execution_count": 3,
     "metadata": {},
     "output_type": "execute_result"
    }
   ],
   "source": [
    "# Read of the local csv file with pandas\n",
    "data=pd.read_csv(\"data/fer20131.csv\")\n",
    "# display of the firsts rows of the data\n",
    "data.head(10)"
   ]
  },
  {
   "cell_type": "markdown",
   "metadata": {},
   "source": [
    "Data vizualisation"
   ]
  },
  {
   "cell_type": "code",
   "execution_count": 4,
   "metadata": {
    "colab": {
     "base_uri": "https://localhost:8080/",
     "height": 1000
    },
    "id": "CmJ35QJF-s_T",
    "outputId": "bdfd9dad-708a-4f31-bb4b-cc42594f9a3a"
   },
   "outputs": [
    {
     "data": {
      "image/png": "[encoded data removed]",
      "text/plain": [
       "<Figure size 640x480 with 1 Axes>"
      ]
     },
     "metadata": {},
     "output_type": "display_data"
    },
    {
     "data": {
      "image/png": "[encoded data removed]",
      "text/plain": [
       "<Figure size 640x480 with 1 Axes>"
      ]
     },
     "metadata": {},
     "output_type": "display_data"
    },
    {
     "data": {
      "image/png": "[encoded data removed]",
      "text/plain": [
       "<Figure size 640x480 with 1 Axes>"
      ]
     },
     "metadata": {},
     "output_type": "display_data"
    },
    {
     "data": {
      "image/png": "[encoded data removed]",
      "text/plain": [
       "<Figure size 640x480 with 1 Axes>"
      ]
     },
     "metadata": {},
     "output_type": "display_data"
    },
    {
     "data": {
      "image/png": "[encoded data removed]",
      "text/plain": [
       "<Figure size 640x480 with 1 Axes>"
      ]
     },
     "metadata": {},
     "output_type": "display_data"
    },
    {
     "data": {
      "image/png": "[encoded data removed]",
      "text/plain": [
       "<Figure size 640x480 with 1 Axes>"
      ]
     },
     "metadata": {},
     "output_type": "display_data"
    },
    {
     "data": {
      "image/png": "[encoded data removed]",
      "text/plain": [
       "<Figure size 640x480 with 1 Axes>"
      ]
     },
     "metadata": {},
     "output_type": "display_data"
    }
   ],
   "source": [
    "# Show an examples of images for each emotions\n",
    "dimension = (np.sqrt(len(data['pixels'][0].split())))\n",
    "examples = data.groupby('emotion').first()['pixels']\n",
    "\n",
    "i = 0\n",
    "for pixels in examples:\n",
    "    # Convert numpy array into images\n",
    "    image = np.array(list(map(int, pixels.split()))).reshape(48, 48)\n",
    "    # Swow the image\n",
    "    plt.imshow(image, cmap='gray')\n",
    "    plt.title('Emotion: ' + str(examples.index[i]))\n",
    "    i += 1\n",
    "    plt.axis('off')\n",
    "    plt.show()"
   ]
  },
  {
   "cell_type": "markdown",
   "metadata": {},
   "source": [
    "Data analyze"
   ]
  },
  {
   "cell_type": "code",
   "execution_count": 5,
   "metadata": {
    "colab": {
     "base_uri": "https://localhost:8080/"
    },
    "id": "fLpu2tiO8KTM",
    "outputId": "b45f659c-ce25-4356-eb73-a37da0f508f5"
   },
   "outputs": [
    {
     "name": "stdout",
     "output_type": "stream",
     "text": [
      "[0 2 4 6 3 5 1]\n",
      "['Training' 'PublicTest' 'PrivateTest']\n",
      "number of training images =  28709\n",
      "number of private test images =  3589\n",
      "number of public test images =  3589\n"
     ]
    }
   ],
   "source": [
    "# Display the different classes of emotions\n",
    "emotions = data['emotion'].unique()\n",
    "print(emotions)\n",
    "\n",
    "# Show the differents type of subdataset and their length\n",
    "usages = data['Usage'].unique()\n",
    "print(usages)\n",
    "training_data = data[data['Usage'] == 'Training']\n",
    "private_test_data = data[data['Usage'] == 'PrivateTest']\n",
    "public_test_data = data[data['Usage'] == 'PublicTest']\n",
    "print('number of training images = ',len(training_data))\n",
    "print('number of private test images = ',len(private_test_data))\n",
    "print('number of public test images = ',len(public_test_data))"
   ]
  },
  {
   "cell_type": "code",
   "execution_count": 6,
   "metadata": {
    "colab": {
     "base_uri": "https://localhost:8080/",
     "height": 447
    },
    "id": "d7paSYgA9vRJ",
    "outputId": "03594c00-e83d-4ec6-c369-bd8455f52442"
   },
   "outputs": [
    {
     "data": {
      "text/plain": [
       "<BarContainer object of 7 artists>"
      ]
     },
     "execution_count": 6,
     "metadata": {},
     "output_type": "execute_result"
    },
    {
     "data": {
      "image/png": "[encoded data removed]",
      "text/plain": [
       "<Figure size 640x480 with 1 Axes>"
      ]
     },
     "metadata": {},
     "output_type": "display_data"
    }
   ],
   "source": [
    "# Analysis of emotion's distribution\n",
    "emo = ['Angry', 'Disgust' , 'Fear', 'Happy', 'Sad', 'Surprise', 'Neutral']\n",
    "data_emotion = data['emotion']\n",
    "distribution = data_emotion.value_counts().sort_index()\n",
    "plt.bar(emo,distribution.values)"
   ]
  },
  {
   "cell_type": "markdown",
   "metadata": {},
   "source": [
    "We see that Disgust class is not enough represented, to avoid bad approximation of the model, let's delete this emotion from training and more globaly from the project"
   ]
  },
  {
   "cell_type": "markdown",
   "metadata": {},
   "source": [
    "Data manipulation"
   ]
  },
  {
   "cell_type": "code",
   "execution_count": 7,
   "metadata": {
    "colab": {
     "base_uri": "https://localhost:8080/"
    },
    "id": "-9lqytqVE-d0",
    "outputId": "f8fb0103-a211-47b8-abea-ad1f54982dc3"
   },
   "outputs": [
    {
     "name": "stdout",
     "output_type": "stream",
     "text": [
      "(28273, 48, 48, 1)\n",
      "(28273, 7)\n",
      "(3533, 48, 48, 1)\n",
      "(3533, 7)\n",
      "(3534, 48, 48, 1)\n",
      "(3534, 7)\n"
     ]
    }
   ],
   "source": [
    "# Spliting the dataset into subdataset and normalization of the value of the pixel (between 0 and 1)\n",
    "def Split_data(data,usage):\n",
    "  selected_data = data.loc[(data['emotion'] != 1)&(data['Usage']== usage)] #We put the condition data['emotion'] != 1 to exclude 'disgust'\n",
    "  X = np.zeros((len(selected_data), 48, 48,1))\n",
    "  for l in range(len(selected_data)):\n",
    "    X[l] = np.array(selected_data['pixels'].iloc[l].split(), dtype=int).reshape((48, 48,1))\n",
    "  X=X/255.\n",
    "  Y = to_categorical(selected_data['emotion'])\n",
    "  return X,Y\n",
    "\n",
    "X_train, Y_train= Split_data(data,'Training')\n",
    "X_val, Y_val= Split_data(data,'PrivateTest')\n",
    "X_test, Y_test= Split_data(data,'PublicTest')\n",
    "\n",
    "# Display the dimension of the splitted dataset\n",
    "print(X_train.shape)\n",
    "print(Y_train.shape)\n",
    "print(X_test.shape)\n",
    "print(Y_test.shape)\n",
    "print(X_val.shape)\n",
    "print(Y_val.shape)"
   ]
  },
  {
   "cell_type": "markdown",
   "metadata": {
    "id": "gJATOqCLUi0Q"
   },
   "source": [
    "Although one emotion, disgust, was removed, the reason why Y has 7 columns is that `to_categorical()` retained the numbering of the emotions as it was, thus keeping its second column (index = 1) null"
   ]
  },
  {
   "cell_type": "markdown",
   "metadata": {},
   "source": [
    "# Model building, training and saving"
   ]
  },
  {
   "cell_type": "markdown",
   "metadata": {},
   "source": [
    "Building"
   ]
  },
  {
   "cell_type": "markdown",
   "metadata": {},
   "source": [
    "The model consists of:\n",
    "- 3 blocks, each containing:\n",
    "  - 3 convolutional layers, with 32, 64, and 128 filters of size (3, 3), using `padding='same'` and `activation='relu'`\n",
    "  - A max pooling layer with `pool_size=(2, 2)`\n",
    "  - A Flatten layer\n",
    "- 2 fully connected (dense) layers with 64 neurons and `activation='relu'`\n",
    "- A final classification layer\n"
   ]
  },
  {
   "cell_type": "code",
   "execution_count": 8,
   "metadata": {
    "colab": {
     "base_uri": "https://localhost:8080/",
     "height": 497
    },
    "id": "9SvRmkI33HpJ",
    "outputId": "611a4189-b105-4e19-9752-ebd18e11d655"
   },
   "outputs": [
    {
     "name": "stderr",
     "output_type": "stream",
     "text": [
      "c:\\Users\\gaudr\\AppData\\Local\\Programs\\Python\\Python311\\Lib\\site-packages\\keras\\src\\layers\\convolutional\\base_conv.py:107: UserWarning: Do not pass an `input_shape`/`input_dim` argument to a layer. When using Sequential models, prefer using an `Input(shape)` object as the first layer in the model instead.\n",
      "  super().__init__(activity_regularizer=activity_regularizer, **kwargs)\n"
     ]
    }
   ],
   "source": [
    "# Fonction for the final block\n",
    "def create_conv_block():\n",
    "    model = Sequential()\n",
    "    model.add(Conv2D(32, (3, 3), padding='same', activation='relu'))\n",
    "    model.add(Conv2D(64, (3, 3), padding='same', activation='relu'))\n",
    "    model.add(Conv2D(128, (3, 3), padding='same', activation='relu'))\n",
    "    model.add(MaxPooling2D(pool_size=(2, 2)))\n",
    "    return model\n",
    "\n",
    "# Initialization of the model\n",
    "expression_model = Sequential()\n",
    "\n",
    "# First block of layers\n",
    "expression_model.add(Conv2D(32, (3, 3), padding='same', activation='relu', input_shape=(48, 48, 1)))\n",
    "expression_model.add(Conv2D(64, (3, 3), padding='same', activation='relu'))\n",
    "expression_model.add(Conv2D(128, (3, 3), padding='same', activation='relu'))\n",
    "\n",
    "# Second and third (identical) block of layer \n",
    "expression_model.add(create_conv_block())\n",
    "expression_model.add(create_conv_block())\n",
    "expression_model.add(Flatten())\n",
    "\n",
    "#Two fully connected layers with 'relu' activation\n",
    "expression_model.add(Dense(64, activation='relu'))\n",
    "expression_model.add(Dense(64, activation='relu'))\n",
    "expression_model.add(Dense(7, activation='sigmoid')) # Final classification layer"
   ]
  },
  {
   "cell_type": "markdown",
   "metadata": {},
   "source": [
    "Training"
   ]
  },
  {
   "cell_type": "markdown",
   "metadata": {},
   "source": [
    "- The `expression_model.fit()` method is configured for model training.\n",
    "- Training uses `X_train` and `Y_train` with 20 epochs and a batch size of 128.\n",
    "- `steps_per_epoch` is set to 100 for iteration control per epoch.\n",
    "- Validation uses `X_val` and `Y_val`, with `validation_steps` set to 50.\n",
    "\n",
    "WARNING : This script takes a lot of time according to your local machine"
   ]
  },
  {
   "cell_type": "code",
   "execution_count": null,
   "metadata": {
    "colab": {
     "base_uri": "https://localhost:8080/"
    },
    "id": "-HwE-AR8VKFK",
    "outputId": "9e552ea0-05e9-4116-9458-dc6344b444be"
   },
   "outputs": [
    {
     "ename": "NameError",
     "evalue": "name 'expression_model' is not defined",
     "output_type": "error",
     "traceback": [
      "\u001b[1;31m---------------------------------------------------------------------------\u001b[0m",
      "\u001b[1;31mNameError\u001b[0m                                 Traceback (most recent call last)",
      "Cell \u001b[1;32mIn[1], line 2\u001b[0m\n\u001b[0;32m      1\u001b[0m \u001b[38;5;66;03m# Training with the specified hyperparameters\u001b[39;00m\n\u001b[1;32m----> 2\u001b[0m history \u001b[38;5;241m=\u001b[39m \u001b[43mexpression_model\u001b[49m\u001b[38;5;241m.\u001b[39mfit(\n\u001b[0;32m      3\u001b[0m     X_train,\n\u001b[0;32m      4\u001b[0m     Y_train,\n\u001b[0;32m      5\u001b[0m     steps_per_epoch\u001b[38;5;241m=\u001b[39m\u001b[38;5;241m100\u001b[39m,\n\u001b[0;32m      6\u001b[0m     epochs\u001b[38;5;241m=\u001b[39m\u001b[38;5;241m20\u001b[39m,\n\u001b[0;32m      7\u001b[0m     batch_size\u001b[38;5;241m=\u001b[39m\u001b[38;5;241m128\u001b[39m,\n\u001b[0;32m      8\u001b[0m     validation_data\u001b[38;5;241m=\u001b[39m(X_val, Y_val),\n\u001b[0;32m      9\u001b[0m     validation_steps\u001b[38;5;241m=\u001b[39m\u001b[38;5;241m50\u001b[39m\n\u001b[0;32m     10\u001b[0m )\n",
      "\u001b[1;31mNameError\u001b[0m: name 'expression_model' is not defined"
     ]
    }
   ],
   "source": [
    "# Training with the specified hyperparameters\n",
    "history = expression_model.fit(\n",
    "    X_train,\n",
    "    Y_train,\n",
    "    steps_per_epoch=100,\n",
    "    epochs=20,\n",
    "    batch_size=128,\n",
    "    validation_data=(X_val, Y_val),\n",
    "    validation_steps=50\n",
    ")"
   ]
  },
  {
   "cell_type": "markdown",
   "metadata": {},
   "source": [
    "Saving"
   ]
  },
  {
   "cell_type": "code",
   "execution_count": null,
   "metadata": {},
   "outputs": [],
   "source": [
    "# Save of the model to use it without running the code \n",
    "expression_model.save('facial_recognition.h5')"
   ]
  },
  {
   "cell_type": "markdown",
   "metadata": {},
   "source": [
    "# Model benchmarking"
   ]
  },
  {
   "cell_type": "markdown",
   "metadata": {},
   "source": [
    "Visualization of the training process (with loss and accuracy)"
   ]
  },
  {
   "cell_type": "code",
   "execution_count": null,
   "metadata": {
    "colab": {
     "base_uri": "https://localhost:8080/",
     "height": 544
    },
    "id": "kbd_eHyj7I3C",
    "outputId": "d764dc7c-5742-474d-8d55-6087d166d867"
   },
   "outputs": [],
   "source": [
    "# Collecting the history of training\n",
    "history_dict = history.history\n",
    "\n",
    "# Extracting the value for loss and precision for both training and validation\n",
    "loss = history_dict['loss']\n",
    "val_loss = history_dict['val_loss']\n",
    "accuracy = history_dict['accuracy']\n",
    "val_accuracy = history_dict['val_accuracy']\n",
    "\n",
    "# Setting the number of epochs on the graph\n",
    "epochs = range(1, len(loss) + 1)\n",
    "\n",
    "# Plotting of loss \n",
    "plt.figure(figsize=(12, 5))\n",
    "plt.subplot(1, 2, 1)\n",
    "plt.plot(epochs, loss, 'bo-', label='Perte - Entraînement')\n",
    "plt.plot(epochs, val_loss, 'r-', label='Perte - Validation')\n",
    "plt.title(\"Évolution de la perte (fonction coût)\")\n",
    "plt.xlabel(\"Époques\")\n",
    "plt.ylabel(\"Perte\")\n",
    "plt.legend()\n",
    "\n",
    "# Plotting of accuracy\n",
    "plt.subplot(1, 2, 2)\n",
    "plt.plot(epochs, accuracy, 'bo-', label='Précision - Entraînement')\n",
    "plt.plot(epochs, val_accuracy, 'r-', label='Précision - Validation')\n",
    "plt.title(\"Évolution de la précision (accuracy)\")\n",
    "plt.xlabel(\"Époques\")\n",
    "plt.ylabel(\"Précision\")\n",
    "plt.legend()\n",
    "\n",
    "plt.tight_layout()\n",
    "plt.show()\n"
   ]
  },
  {
   "cell_type": "markdown",
   "metadata": {},
   "source": [
    "Evaluation on the test part"
   ]
  },
  {
   "cell_type": "code",
   "execution_count": 10,
   "metadata": {},
   "outputs": [
    {
     "name": "stderr",
     "output_type": "stream",
     "text": [
      "WARNING:absl:Compiled the loaded model, but the compiled metrics have yet to be built. `model.compile_metrics` will be empty until you train or evaluate the model.\n"
     ]
    }
   ],
   "source": [
    "#Load of the model\n",
    "expression_model = load_model('models/facial_recognition_model.h5')"
   ]
  },
  {
   "cell_type": "code",
   "execution_count": 11,
   "metadata": {
    "colab": {
     "base_uri": "https://localhost:8080/"
    },
    "id": "_NJF6PEK9pxM",
    "outputId": "eaea8ee5-70ed-4f3e-a2a5-5812276b6635"
   },
   "outputs": [
    {
     "name": "stdout",
     "output_type": "stream",
     "text": [
      "\u001b[1m111/111\u001b[0m \u001b[32m━━━━━━━━━━━━━━━━━━━━\u001b[0m\u001b[37m\u001b[0m \u001b[1m10s\u001b[0m 87ms/step - accuracy: 0.5515 - loss: 1.1909\n",
      "Cost (loss function) on test data : 1.2003942728042603\n",
      "Acurracy on test data : 0.542881429195404\n"
     ]
    }
   ],
   "source": [
    "# Evaluation\n",
    "loss, accuracy = expression_model.evaluate(X_test, Y_test)\n",
    "\n",
    "print(\"Cost (loss function) on test data :\", loss)\n",
    "print(\"Acurracy on test data :\", accuracy)"
   ]
  },
  {
   "cell_type": "markdown",
   "metadata": {},
   "source": [
    "Recognition rate for each class"
   ]
  },
  {
   "cell_type": "code",
   "execution_count": 12,
   "metadata": {},
   "outputs": [
    {
     "name": "stdout",
     "output_type": "stream",
     "text": [
      "\u001b[1m111/111\u001b[0m \u001b[32m━━━━━━━━━━━━━━━━━━━━\u001b[0m\u001b[37m\u001b[0m \u001b[1m10s\u001b[0m 90ms/step\n",
      "              precision    recall  f1-score   support\n",
      "\n",
      "       Angry       0.49      0.38      0.43       467\n",
      "        Fear       0.46      0.21      0.29       496\n",
      "       Happy       0.75      0.76      0.76       895\n",
      "         Sad       0.40      0.50      0.45       653\n",
      "    Surprise       0.78      0.63      0.70       415\n",
      "     Neutral       0.41      0.60      0.49       607\n",
      "\n",
      "    accuracy                           0.54      3533\n",
      "   macro avg       0.55      0.51      0.52      3533\n",
      "weighted avg       0.56      0.54      0.54      3533\n",
      "\n"
     ]
    }
   ],
   "source": [
    "# Obtain predictions on tests\n",
    "y_pred = expression_model.predict(X_test)\n",
    "y_pred_classes = y_pred.argmax(axis=1)  # Convertir les prédictions en classes\n",
    "\n",
    "# Convertir the results as the emotion_index\n",
    "y_true = Y_test.argmax(axis=1)\n",
    "\n",
    "# Generate the report\n",
    "classes = ['Angry', 'Fear', 'Happy', 'Sad', 'Surprise', 'Neutral']\n",
    "report = classification_report(y_true, y_pred_classes, target_names=classes)\n",
    "print(report)"
   ]
  },
  {
   "cell_type": "code",
   "execution_count": 13,
   "metadata": {
    "colab": {
     "base_uri": "https://localhost:8080/"
    },
    "id": "bQcac_kYamEW",
    "outputId": "589651e2-5ebe-41a1-9b84-709908271811"
   },
   "outputs": [
    {
     "name": "stdout",
     "output_type": "stream",
     "text": [
      "[[178  22  38 104  12 113]\n",
      " [ 61 103  32 142  34 124]\n",
      " [ 28  14 684  78  13  78]\n",
      " [ 49  34  61 325  10 174]\n",
      " [ 20  31  33  28 263  40]\n",
      " [ 27  19  64 127   5 365]]\n"
     ]
    }
   ],
   "source": [
    "# Visualization of the confusion matrix\n",
    "print(confusion_matrix(y_true, y_pred_classes))"
   ]
  },
  {
   "cell_type": "markdown",
   "metadata": {},
   "source": [
    "# Data augmentation : Modify data to strenghten the model"
   ]
  },
  {
   "cell_type": "markdown",
   "metadata": {},
   "source": [
    "What we want to do is to strenghten the model by making the training harder :\n",
    "For that we will make the data less recognizable : This process is called data augmentation\n",
    "We will apply little transformation to our train images : rotation, zoom, flip..."
   ]
  },
  {
   "cell_type": "code",
   "execution_count": null,
   "metadata": {
    "colab": {
     "base_uri": "https://localhost:8080/",
     "height": 1000
    },
    "id": "3x02NqmaJ_20",
    "outputId": "f664cb76-8125-48ac-a9c3-7034bc36fc48"
   },
   "outputs": [],
   "source": [
    "# Data augmentation process\n",
    "# Creation of a data augmented generator\n",
    "datagen = ImageDataGenerator(\n",
    "    rotation_range=40,\n",
    "    width_shift_range=0.2,\n",
    "    height_shift_range=0.2,\n",
    "    shear_range=0.2,\n",
    "    zoom_range=0.2,\n",
    "    horizontal_flip=True,\n",
    "    fill_mode='nearest'\n",
    ")\n",
    "\n",
    "# Apply the generator on the train dataset\n",
    "datagen.fit(X_train)\n",
    "\n",
    "# Train the model on the enchanced dataset\n",
    "history2 = expression_model.fit(\n",
    "    datagen.flow(X_train, Y_train, batch_size=128),\n",
    "    steps_per_epoch=100,\n",
    "    epochs=20,\n",
    "    # validation_data=(X_val, Y_val),\n",
    "    validation_steps=50\n",
    ")"
   ]
  },
  {
   "cell_type": "markdown",
   "metadata": {},
   "source": [
    "Save the new model"
   ]
  },
  {
   "cell_type": "code",
   "execution_count": null,
   "metadata": {},
   "outputs": [],
   "source": [
    "# Save the model\n",
    "expression_model.save('augmented_facial_recognition.h5')"
   ]
  },
  {
   "cell_type": "markdown",
   "metadata": {},
   "source": [
    "# Augmented Model Benchmarking"
   ]
  },
  {
   "cell_type": "code",
   "execution_count": 15,
   "metadata": {},
   "outputs": [
    {
     "name": "stderr",
     "output_type": "stream",
     "text": [
      "WARNING:absl:Compiled the loaded model, but the compiled metrics have yet to be built. `model.compile_metrics` will be empty until you train or evaluate the model.\n"
     ]
    }
   ],
   "source": [
    "# Load the model\n",
    "augmented_expression_model = load_model('models/augmented_facial_recognition_model.h5')"
   ]
  },
  {
   "cell_type": "code",
   "execution_count": 16,
   "metadata": {
    "colab": {
     "base_uri": "https://localhost:8080/"
    },
    "id": "tAGsxcuDmmH0",
    "outputId": "bf2214c0-b3e2-4537-85dc-eb781f84eae1"
   },
   "outputs": [
    {
     "name": "stdout",
     "output_type": "stream",
     "text": [
      "\u001b[1m111/111\u001b[0m \u001b[32m━━━━━━━━━━━━━━━━━━━━\u001b[0m\u001b[37m\u001b[0m \u001b[1m10s\u001b[0m 88ms/step - accuracy: 0.5511 - loss: 1.1629\n",
      "Loss (cost function) on test data :  1.1671991348266602\n",
      "Accuracy on test data :  0.5451457500457764\n"
     ]
    }
   ],
   "source": [
    "# Evaluation of the new model\n",
    "loss, accuracy = augmented_expression_model.evaluate(X_test, Y_test)\n",
    "\n",
    "print(\"Loss (cost function) on test data : \", loss)\n",
    "print(\"Accuracy on test data : \", accuracy)"
   ]
  },
  {
   "cell_type": "markdown",
   "metadata": {
    "id": "MHaXQr5rm2vF"
   },
   "source": [
    "The accuracy increase by __% with this data augmentation"
   ]
  }
 ],
 "metadata": {
  "accelerator": "GPU",
  "colab": {
   "gpuType": "T4",
   "provenance": []
  },
  "kernelspec": {
   "display_name": "Python 3",
   "name": "python3"
  },
  "language_info": {
   "codemirror_mode": {
    "name": "ipython",
    "version": 3
   },
   "file_extension": ".py",
   "mimetype": "text/x-python",
   "name": "python",
   "nbconvert_exporter": "python",
   "pygments_lexer": "ipython3",
   "version": "3.11.5"
  }
 },
 "nbformat": 4,
 "nbformat_minor": 0
}
